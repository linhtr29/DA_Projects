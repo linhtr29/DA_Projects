{
 "cells": [
  {
   "cell_type": "markdown",
   "metadata": {},
   "source": [
    "## Import packages & load data "
   ]
  },
  {
   "cell_type": "code",
   "execution_count": 2,
   "metadata": {},
   "outputs": [],
   "source": [
    "import pandas as pd\n",
    "import numpy as np\n",
    "from matplotlib import pyplot as plt\n",
    "import seaborn as sns\n",
    "from datetime import datetime"
   ]
  },
  {
   "cell_type": "markdown",
   "metadata": {},
   "source": [
    "### Concat from daily reports"
   ]
  },
  {
   "cell_type": "code",
   "execution_count": 3,
   "metadata": {},
   "outputs": [
    {
     "data": {
      "text/plain": [
       "'paths = []\\nfor day_of_month in range(1,8):\\n    path = \\'menu_2210\\' + f\"{day_of_month:02d}\" + \\'.xlsx\\'\\n    paths.append(path)'"
      ]
     },
     "execution_count": 3,
     "metadata": {},
     "output_type": "execute_result"
    }
   ],
   "source": [
    "'''paths = []\n",
    "for day_of_month in range(1,8):\n",
    "    path = 'menu_2210' + f\"{day_of_month:02d}\" + '.xlsx'\n",
    "    paths.append(path)'''"
   ]
  },
  {
   "cell_type": "code",
   "execution_count": 4,
   "metadata": {},
   "outputs": [
    {
     "data": {
      "text/plain": [
       "\"all_data = []\\nfor p in paths:\\n    data = pd.read_excel(p, engine='openpyxl')\\n    all_data.append(data)\\ndf = pd.concat(all_data)\""
      ]
     },
     "execution_count": 4,
     "metadata": {},
     "output_type": "execute_result"
    }
   ],
   "source": [
    "'''all_data = []\n",
    "for p in paths:\n",
    "    data = pd.read_excel(p, engine='openpyxl')\n",
    "    all_data.append(data)\n",
    "df = pd.concat(all_data)'''"
   ]
  },
  {
   "cell_type": "markdown",
   "metadata": {},
   "source": [
    "### ... or get directly from the main report"
   ]
  },
  {
   "cell_type": "code",
   "execution_count": 5,
   "metadata": {},
   "outputs": [
    {
     "data": {
      "text/html": [
       "<div>\n",
       "<style scoped>\n",
       "    .dataframe tbody tr th:only-of-type {\n",
       "        vertical-align: middle;\n",
       "    }\n",
       "\n",
       "    .dataframe tbody tr th {\n",
       "        vertical-align: top;\n",
       "    }\n",
       "\n",
       "    .dataframe thead th {\n",
       "        text-align: right;\n",
       "    }\n",
       "</style>\n",
       "<table border=\"1\" class=\"dataframe\">\n",
       "  <thead>\n",
       "    <tr style=\"text-align: right;\">\n",
       "      <th></th>\n",
       "      <th>order_id</th>\n",
       "      <th>order_type</th>\n",
       "      <th>store</th>\n",
       "      <th>partner</th>\n",
       "      <th>order_date</th>\n",
       "      <th>order_time</th>\n",
       "      <th>customer_name</th>\n",
       "      <th>customer_address</th>\n",
       "      <th>product_category</th>\n",
       "      <th>product</th>\n",
       "      <th>detail</th>\n",
       "      <th>quantity</th>\n",
       "      <th>unit_price</th>\n",
       "      <th>extra_fee</th>\n",
       "      <th>discount</th>\n",
       "      <th>total</th>\n",
       "      <th>payment</th>\n",
       "      <th>payment_partner</th>\n",
       "    </tr>\n",
       "  </thead>\n",
       "  <tbody>\n",
       "    <tr>\n",
       "      <th>0</th>\n",
       "      <td>QKCT221001162240</td>\n",
       "      <td>offline</td>\n",
       "      <td>Scruffy</td>\n",
       "      <td>NaN</td>\n",
       "      <td>01-10-22</td>\n",
       "      <td>16:22</td>\n",
       "      <td>NaN</td>\n",
       "      <td>NaN</td>\n",
       "      <td>COMBO SNACKS</td>\n",
       "      <td>ixuxut</td>\n",
       "      <td>Size S</td>\n",
       "      <td>1.0</td>\n",
       "      <td>29000.0</td>\n",
       "      <td>NaN</td>\n",
       "      <td>NaN</td>\n",
       "      <td>29000.0</td>\n",
       "      <td>COD</td>\n",
       "      <td>NaN</td>\n",
       "    </tr>\n",
       "    <tr>\n",
       "      <th>1</th>\n",
       "      <td>MKPA221001162157</td>\n",
       "      <td>offline</td>\n",
       "      <td>Scruffy</td>\n",
       "      <td>NaN</td>\n",
       "      <td>01-10-22</td>\n",
       "      <td>16:21</td>\n",
       "      <td>NaN</td>\n",
       "      <td>NaN</td>\n",
       "      <td>SPECIAL DRINK</td>\n",
       "      <td>afabut 29K</td>\n",
       "      <td>Size M</td>\n",
       "      <td>1.0</td>\n",
       "      <td>29000.0</td>\n",
       "      <td>NaN</td>\n",
       "      <td>NaN</td>\n",
       "      <td>29000.0</td>\n",
       "      <td>COD</td>\n",
       "      <td>NaN</td>\n",
       "    </tr>\n",
       "    <tr>\n",
       "      <th>2</th>\n",
       "      <td>PQZH221001161710</td>\n",
       "      <td>offline</td>\n",
       "      <td>Scruffy</td>\n",
       "      <td>NaN</td>\n",
       "      <td>01-10-22</td>\n",
       "      <td>16:17</td>\n",
       "      <td>NaN</td>\n",
       "      <td>NaN</td>\n",
       "      <td>SPECIAL DRINK</td>\n",
       "      <td>ezopur 29K</td>\n",
       "      <td>Size M</td>\n",
       "      <td>1.0</td>\n",
       "      <td>29000.0</td>\n",
       "      <td>NaN</td>\n",
       "      <td>NaN</td>\n",
       "      <td>29000.0</td>\n",
       "      <td>QUICKPAY</td>\n",
       "      <td>MoMo</td>\n",
       "    </tr>\n",
       "    <tr>\n",
       "      <th>3</th>\n",
       "      <td>SEHU221001161621</td>\n",
       "      <td>offline</td>\n",
       "      <td>Scruffy</td>\n",
       "      <td>NaN</td>\n",
       "      <td>01-10-22</td>\n",
       "      <td>16:16</td>\n",
       "      <td>NaN</td>\n",
       "      <td>NaN</td>\n",
       "      <td>NOODLES</td>\n",
       "      <td>equfuh</td>\n",
       "      <td>Size M</td>\n",
       "      <td>1.0</td>\n",
       "      <td>20000.0</td>\n",
       "      <td>5000.0</td>\n",
       "      <td>NaN</td>\n",
       "      <td>25000.0</td>\n",
       "      <td>COD</td>\n",
       "      <td>NaN</td>\n",
       "    </tr>\n",
       "    <tr>\n",
       "      <th>4</th>\n",
       "      <td>HIRB221001154407</td>\n",
       "      <td>offline</td>\n",
       "      <td>Scruffy</td>\n",
       "      <td>NaN</td>\n",
       "      <td>01-10-22</td>\n",
       "      <td>15:44</td>\n",
       "      <td>NaN</td>\n",
       "      <td>NaN</td>\n",
       "      <td>NOODLES</td>\n",
       "      <td>equfuh</td>\n",
       "      <td>Size M</td>\n",
       "      <td>2.0</td>\n",
       "      <td>20000.0</td>\n",
       "      <td>5000.0</td>\n",
       "      <td>NaN</td>\n",
       "      <td>50000.0</td>\n",
       "      <td>COD</td>\n",
       "      <td>NaN</td>\n",
       "    </tr>\n",
       "    <tr>\n",
       "      <th>...</th>\n",
       "      <td>...</td>\n",
       "      <td>...</td>\n",
       "      <td>...</td>\n",
       "      <td>...</td>\n",
       "      <td>...</td>\n",
       "      <td>...</td>\n",
       "      <td>...</td>\n",
       "      <td>...</td>\n",
       "      <td>...</td>\n",
       "      <td>...</td>\n",
       "      <td>...</td>\n",
       "      <td>...</td>\n",
       "      <td>...</td>\n",
       "      <td>...</td>\n",
       "      <td>...</td>\n",
       "      <td>...</td>\n",
       "      <td>...</td>\n",
       "      <td>...</td>\n",
       "    </tr>\n",
       "    <tr>\n",
       "      <th>91103</th>\n",
       "      <td>BNAE221007092306</td>\n",
       "      <td>offline</td>\n",
       "      <td>Thumper</td>\n",
       "      <td>NaN</td>\n",
       "      <td>07-10-22</td>\n",
       "      <td>9:23</td>\n",
       "      <td>NaN</td>\n",
       "      <td>NaN</td>\n",
       "      <td>SOFT DRINK</td>\n",
       "      <td>ofufen</td>\n",
       "      <td>Size M</td>\n",
       "      <td>1.0</td>\n",
       "      <td>25000.0</td>\n",
       "      <td>NaN</td>\n",
       "      <td>NaN</td>\n",
       "      <td>25000.0</td>\n",
       "      <td>COD</td>\n",
       "      <td>NaN</td>\n",
       "    </tr>\n",
       "    <tr>\n",
       "      <th>91104</th>\n",
       "      <td>BRAW221007090621</td>\n",
       "      <td>offline</td>\n",
       "      <td>Thumper</td>\n",
       "      <td>NaN</td>\n",
       "      <td>07-10-22</td>\n",
       "      <td>9:06</td>\n",
       "      <td>NaN</td>\n",
       "      <td>NaN</td>\n",
       "      <td>SOFT DRINK</td>\n",
       "      <td>ovisaq</td>\n",
       "      <td>Size M</td>\n",
       "      <td>1.0</td>\n",
       "      <td>25000.0</td>\n",
       "      <td>NaN</td>\n",
       "      <td>NaN</td>\n",
       "      <td>25000.0</td>\n",
       "      <td>COD</td>\n",
       "      <td>NaN</td>\n",
       "    </tr>\n",
       "    <tr>\n",
       "      <th>91105</th>\n",
       "      <td>VUXW221007075301</td>\n",
       "      <td>offline</td>\n",
       "      <td>Thumper</td>\n",
       "      <td>NaN</td>\n",
       "      <td>07-10-22</td>\n",
       "      <td>7:53</td>\n",
       "      <td>NaN</td>\n",
       "      <td>NaN</td>\n",
       "      <td>SOFT DRINK</td>\n",
       "      <td>ofufen</td>\n",
       "      <td>Size M</td>\n",
       "      <td>1.0</td>\n",
       "      <td>25000.0</td>\n",
       "      <td>NaN</td>\n",
       "      <td>NaN</td>\n",
       "      <td>25000.0</td>\n",
       "      <td>COD</td>\n",
       "      <td>NaN</td>\n",
       "    </tr>\n",
       "    <tr>\n",
       "      <th>91106</th>\n",
       "      <td>OUVD221007074510</td>\n",
       "      <td>offline</td>\n",
       "      <td>Thumper</td>\n",
       "      <td>NaN</td>\n",
       "      <td>07-10-22</td>\n",
       "      <td>7:45</td>\n",
       "      <td>NaN</td>\n",
       "      <td>NaN</td>\n",
       "      <td>SOFT DRINK</td>\n",
       "      <td>obivad</td>\n",
       "      <td>Size M</td>\n",
       "      <td>1.0</td>\n",
       "      <td>25000.0</td>\n",
       "      <td>NaN</td>\n",
       "      <td>NaN</td>\n",
       "      <td>25000.0</td>\n",
       "      <td>COD</td>\n",
       "      <td>NaN</td>\n",
       "    </tr>\n",
       "    <tr>\n",
       "      <th>91107</th>\n",
       "      <td>ZJLD221007071948</td>\n",
       "      <td>offline</td>\n",
       "      <td>Thumper</td>\n",
       "      <td>NaN</td>\n",
       "      <td>07-10-22</td>\n",
       "      <td>7:19</td>\n",
       "      <td>NaN</td>\n",
       "      <td>NaN</td>\n",
       "      <td>SOFT DRINK</td>\n",
       "      <td>ozovuq</td>\n",
       "      <td>Size M</td>\n",
       "      <td>1.0</td>\n",
       "      <td>25000.0</td>\n",
       "      <td>NaN</td>\n",
       "      <td>NaN</td>\n",
       "      <td>25000.0</td>\n",
       "      <td>COD</td>\n",
       "      <td>NaN</td>\n",
       "    </tr>\n",
       "  </tbody>\n",
       "</table>\n",
       "<p>91108 rows × 18 columns</p>\n",
       "</div>"
      ],
      "text/plain": [
       "               order_id order_type    store partner order_date order_time  \\\n",
       "0      QKCT221001162240    offline  Scruffy     NaN   01-10-22      16:22   \n",
       "1      MKPA221001162157    offline  Scruffy     NaN   01-10-22      16:21   \n",
       "2      PQZH221001161710    offline  Scruffy     NaN   01-10-22      16:17   \n",
       "3      SEHU221001161621    offline  Scruffy     NaN   01-10-22      16:16   \n",
       "4      HIRB221001154407    offline  Scruffy     NaN   01-10-22      15:44   \n",
       "...                 ...        ...      ...     ...        ...        ...   \n",
       "91103  BNAE221007092306    offline  Thumper     NaN   07-10-22       9:23   \n",
       "91104  BRAW221007090621    offline  Thumper     NaN   07-10-22       9:06   \n",
       "91105  VUXW221007075301    offline  Thumper     NaN   07-10-22       7:53   \n",
       "91106  OUVD221007074510    offline  Thumper     NaN   07-10-22       7:45   \n",
       "91107  ZJLD221007071948    offline  Thumper     NaN   07-10-22       7:19   \n",
       "\n",
       "      customer_name customer_address product_category     product  detail  \\\n",
       "0               NaN              NaN     COMBO SNACKS      ixuxut  Size S   \n",
       "1               NaN              NaN    SPECIAL DRINK  afabut 29K  Size M   \n",
       "2               NaN              NaN    SPECIAL DRINK  ezopur 29K  Size M   \n",
       "3               NaN              NaN          NOODLES      equfuh  Size M   \n",
       "4               NaN              NaN          NOODLES      equfuh  Size M   \n",
       "...             ...              ...              ...         ...     ...   \n",
       "91103           NaN              NaN       SOFT DRINK      ofufen  Size M   \n",
       "91104           NaN              NaN       SOFT DRINK      ovisaq  Size M   \n",
       "91105           NaN              NaN       SOFT DRINK      ofufen  Size M   \n",
       "91106           NaN              NaN       SOFT DRINK      obivad  Size M   \n",
       "91107           NaN              NaN       SOFT DRINK      ozovuq  Size M   \n",
       "\n",
       "       quantity  unit_price  extra_fee  discount    total   payment  \\\n",
       "0           1.0     29000.0        NaN       NaN  29000.0       COD   \n",
       "1           1.0     29000.0        NaN       NaN  29000.0       COD   \n",
       "2           1.0     29000.0        NaN       NaN  29000.0  QUICKPAY   \n",
       "3           1.0     20000.0     5000.0       NaN  25000.0       COD   \n",
       "4           2.0     20000.0     5000.0       NaN  50000.0       COD   \n",
       "...         ...         ...        ...       ...      ...       ...   \n",
       "91103       1.0     25000.0        NaN       NaN  25000.0       COD   \n",
       "91104       1.0     25000.0        NaN       NaN  25000.0       COD   \n",
       "91105       1.0     25000.0        NaN       NaN  25000.0       COD   \n",
       "91106       1.0     25000.0        NaN       NaN  25000.0       COD   \n",
       "91107       1.0     25000.0        NaN       NaN  25000.0       COD   \n",
       "\n",
       "      payment_partner  \n",
       "0                 NaN  \n",
       "1                 NaN  \n",
       "2                MoMo  \n",
       "3                 NaN  \n",
       "4                 NaN  \n",
       "...               ...  \n",
       "91103             NaN  \n",
       "91104             NaN  \n",
       "91105             NaN  \n",
       "91106             NaN  \n",
       "91107             NaN  \n",
       "\n",
       "[91108 rows x 18 columns]"
      ]
     },
     "execution_count": 5,
     "metadata": {},
     "output_type": "execute_result"
    }
   ],
   "source": [
    "df = pd.read_csv('FnB_sales_w1_OCT22.csv')\n",
    "df"
   ]
  },
  {
   "cell_type": "markdown",
   "metadata": {},
   "source": [
    "### Take an overview on data"
   ]
  },
  {
   "cell_type": "code",
   "execution_count": 6,
   "metadata": {},
   "outputs": [
    {
     "name": "stdout",
     "output_type": "stream",
     "text": [
      "<class 'pandas.core.frame.DataFrame'>\n",
      "Int64Index: 91108 entries, 0 to 91107\n",
      "Data columns (total 18 columns):\n",
      " #   Column            Non-Null Count  Dtype  \n",
      "---  ------            --------------  -----  \n",
      " 0   order_id          91108 non-null  object \n",
      " 1   order_type        91108 non-null  object \n",
      " 2   store             91108 non-null  object \n",
      " 3   partner           3545 non-null   object \n",
      " 4   order_date        91108 non-null  object \n",
      " 5   order_time        91108 non-null  object \n",
      " 6   customer_name     254 non-null    object \n",
      " 7   customer_address  254 non-null    object \n",
      " 8   product_category  91108 non-null  object \n",
      " 9   product           91108 non-null  object \n",
      " 10  detail            82410 non-null  object \n",
      " 11  quantity          91102 non-null  float64\n",
      " 12  unit_price        88386 non-null  float64\n",
      " 13  extra_fee         44087 non-null  float64\n",
      " 14  discount          128 non-null    float64\n",
      " 15  total             88362 non-null  float64\n",
      " 16  payment           91108 non-null  object \n",
      " 17  payment_partner   9631 non-null   object \n",
      "dtypes: float64(5), object(13)\n",
      "memory usage: 13.2+ MB\n"
     ]
    }
   ],
   "source": [
    "# Check data types and null/ non-null values\n",
    "df.info()"
   ]
  },
  {
   "cell_type": "code",
   "execution_count": 7,
   "metadata": {},
   "outputs": [
    {
     "data": {
      "text/html": [
       "<div>\n",
       "<style scoped>\n",
       "    .dataframe tbody tr th:only-of-type {\n",
       "        vertical-align: middle;\n",
       "    }\n",
       "\n",
       "    .dataframe tbody tr th {\n",
       "        vertical-align: top;\n",
       "    }\n",
       "\n",
       "    .dataframe thead th {\n",
       "        text-align: right;\n",
       "    }\n",
       "</style>\n",
       "<table border=\"1\" class=\"dataframe\">\n",
       "  <thead>\n",
       "    <tr style=\"text-align: right;\">\n",
       "      <th></th>\n",
       "      <th>order_id</th>\n",
       "      <th>order_type</th>\n",
       "      <th>store</th>\n",
       "      <th>partner</th>\n",
       "      <th>order_date</th>\n",
       "      <th>order_time</th>\n",
       "      <th>customer_name</th>\n",
       "      <th>customer_address</th>\n",
       "      <th>product_category</th>\n",
       "      <th>product</th>\n",
       "      <th>detail</th>\n",
       "      <th>quantity</th>\n",
       "      <th>unit_price</th>\n",
       "      <th>extra_fee</th>\n",
       "      <th>discount</th>\n",
       "      <th>total</th>\n",
       "      <th>payment</th>\n",
       "      <th>payment_partner</th>\n",
       "    </tr>\n",
       "  </thead>\n",
       "  <tbody>\n",
       "    <tr>\n",
       "      <th>count</th>\n",
       "      <td>91108</td>\n",
       "      <td>91108</td>\n",
       "      <td>91108</td>\n",
       "      <td>3545</td>\n",
       "      <td>91108</td>\n",
       "      <td>91108</td>\n",
       "      <td>254</td>\n",
       "      <td>254</td>\n",
       "      <td>91108</td>\n",
       "      <td>91108</td>\n",
       "      <td>82410</td>\n",
       "      <td>91102.000000</td>\n",
       "      <td>88386.000000</td>\n",
       "      <td>44087.000000</td>\n",
       "      <td>128.000000</td>\n",
       "      <td>8.836200e+04</td>\n",
       "      <td>91108</td>\n",
       "      <td>9631</td>\n",
       "    </tr>\n",
       "    <tr>\n",
       "      <th>unique</th>\n",
       "      <td>71631</td>\n",
       "      <td>2</td>\n",
       "      <td>104</td>\n",
       "      <td>5</td>\n",
       "      <td>7</td>\n",
       "      <td>1254</td>\n",
       "      <td>91</td>\n",
       "      <td>99</td>\n",
       "      <td>41</td>\n",
       "      <td>221</td>\n",
       "      <td>116</td>\n",
       "      <td>NaN</td>\n",
       "      <td>NaN</td>\n",
       "      <td>NaN</td>\n",
       "      <td>NaN</td>\n",
       "      <td>NaN</td>\n",
       "      <td>5</td>\n",
       "      <td>11</td>\n",
       "    </tr>\n",
       "    <tr>\n",
       "      <th>top</th>\n",
       "      <td>SOQN221003120451</td>\n",
       "      <td>offline</td>\n",
       "      <td>Shady</td>\n",
       "      <td>GrabFood</td>\n",
       "      <td>03-10-22</td>\n",
       "      <td>7:48</td>\n",
       "      <td>Nhật Hoà</td>\n",
       "      <td>119 Đường Lương Định Của, Quận 2, Thành phố Hồ...</td>\n",
       "      <td>NOODLES</td>\n",
       "      <td>equfuh</td>\n",
       "      <td>Size M</td>\n",
       "      <td>NaN</td>\n",
       "      <td>NaN</td>\n",
       "      <td>NaN</td>\n",
       "      <td>NaN</td>\n",
       "      <td>NaN</td>\n",
       "      <td>COD</td>\n",
       "      <td>MoMo</td>\n",
       "    </tr>\n",
       "    <tr>\n",
       "      <th>freq</th>\n",
       "      <td>20</td>\n",
       "      <td>90854</td>\n",
       "      <td>3932</td>\n",
       "      <td>1014</td>\n",
       "      <td>14310</td>\n",
       "      <td>307</td>\n",
       "      <td>12</td>\n",
       "      <td>12</td>\n",
       "      <td>47537</td>\n",
       "      <td>39946</td>\n",
       "      <td>45350</td>\n",
       "      <td>NaN</td>\n",
       "      <td>NaN</td>\n",
       "      <td>NaN</td>\n",
       "      <td>NaN</td>\n",
       "      <td>NaN</td>\n",
       "      <td>80051</td>\n",
       "      <td>6506</td>\n",
       "    </tr>\n",
       "    <tr>\n",
       "      <th>mean</th>\n",
       "      <td>NaN</td>\n",
       "      <td>NaN</td>\n",
       "      <td>NaN</td>\n",
       "      <td>NaN</td>\n",
       "      <td>NaN</td>\n",
       "      <td>NaN</td>\n",
       "      <td>NaN</td>\n",
       "      <td>NaN</td>\n",
       "      <td>NaN</td>\n",
       "      <td>NaN</td>\n",
       "      <td>NaN</td>\n",
       "      <td>1.220004</td>\n",
       "      <td>23746.251669</td>\n",
       "      <td>8023.317531</td>\n",
       "      <td>21675.781250</td>\n",
       "      <td>3.300977e+04</td>\n",
       "      <td>NaN</td>\n",
       "      <td>NaN</td>\n",
       "    </tr>\n",
       "    <tr>\n",
       "      <th>std</th>\n",
       "      <td>NaN</td>\n",
       "      <td>NaN</td>\n",
       "      <td>NaN</td>\n",
       "      <td>NaN</td>\n",
       "      <td>NaN</td>\n",
       "      <td>NaN</td>\n",
       "      <td>NaN</td>\n",
       "      <td>NaN</td>\n",
       "      <td>NaN</td>\n",
       "      <td>NaN</td>\n",
       "      <td>NaN</td>\n",
       "      <td>1.234845</td>\n",
       "      <td>7144.671541</td>\n",
       "      <td>4427.784117</td>\n",
       "      <td>14333.293637</td>\n",
       "      <td>2.809524e+04</td>\n",
       "      <td>NaN</td>\n",
       "      <td>NaN</td>\n",
       "    </tr>\n",
       "    <tr>\n",
       "      <th>min</th>\n",
       "      <td>NaN</td>\n",
       "      <td>NaN</td>\n",
       "      <td>NaN</td>\n",
       "      <td>NaN</td>\n",
       "      <td>NaN</td>\n",
       "      <td>NaN</td>\n",
       "      <td>NaN</td>\n",
       "      <td>NaN</td>\n",
       "      <td>NaN</td>\n",
       "      <td>NaN</td>\n",
       "      <td>NaN</td>\n",
       "      <td>0.100000</td>\n",
       "      <td>1000.000000</td>\n",
       "      <td>5000.000000</td>\n",
       "      <td>2450.000000</td>\n",
       "      <td>1.000000e+03</td>\n",
       "      <td>NaN</td>\n",
       "      <td>NaN</td>\n",
       "    </tr>\n",
       "    <tr>\n",
       "      <th>25%</th>\n",
       "      <td>NaN</td>\n",
       "      <td>NaN</td>\n",
       "      <td>NaN</td>\n",
       "      <td>NaN</td>\n",
       "      <td>NaN</td>\n",
       "      <td>NaN</td>\n",
       "      <td>NaN</td>\n",
       "      <td>NaN</td>\n",
       "      <td>NaN</td>\n",
       "      <td>NaN</td>\n",
       "      <td>NaN</td>\n",
       "      <td>1.000000</td>\n",
       "      <td>20000.000000</td>\n",
       "      <td>5000.000000</td>\n",
       "      <td>5850.000000</td>\n",
       "      <td>2.000000e+04</td>\n",
       "      <td>NaN</td>\n",
       "      <td>NaN</td>\n",
       "    </tr>\n",
       "    <tr>\n",
       "      <th>50%</th>\n",
       "      <td>NaN</td>\n",
       "      <td>NaN</td>\n",
       "      <td>NaN</td>\n",
       "      <td>NaN</td>\n",
       "      <td>NaN</td>\n",
       "      <td>NaN</td>\n",
       "      <td>NaN</td>\n",
       "      <td>NaN</td>\n",
       "      <td>NaN</td>\n",
       "      <td>NaN</td>\n",
       "      <td>NaN</td>\n",
       "      <td>1.000000</td>\n",
       "      <td>20000.000000</td>\n",
       "      <td>5000.000000</td>\n",
       "      <td>25000.000000</td>\n",
       "      <td>2.500000e+04</td>\n",
       "      <td>NaN</td>\n",
       "      <td>NaN</td>\n",
       "    </tr>\n",
       "    <tr>\n",
       "      <th>75%</th>\n",
       "      <td>NaN</td>\n",
       "      <td>NaN</td>\n",
       "      <td>NaN</td>\n",
       "      <td>NaN</td>\n",
       "      <td>NaN</td>\n",
       "      <td>NaN</td>\n",
       "      <td>NaN</td>\n",
       "      <td>NaN</td>\n",
       "      <td>NaN</td>\n",
       "      <td>NaN</td>\n",
       "      <td>NaN</td>\n",
       "      <td>1.000000</td>\n",
       "      <td>29000.000000</td>\n",
       "      <td>10000.000000</td>\n",
       "      <td>35000.000000</td>\n",
       "      <td>3.500000e+04</td>\n",
       "      <td>NaN</td>\n",
       "      <td>NaN</td>\n",
       "    </tr>\n",
       "    <tr>\n",
       "      <th>max</th>\n",
       "      <td>NaN</td>\n",
       "      <td>NaN</td>\n",
       "      <td>NaN</td>\n",
       "      <td>NaN</td>\n",
       "      <td>NaN</td>\n",
       "      <td>NaN</td>\n",
       "      <td>NaN</td>\n",
       "      <td>NaN</td>\n",
       "      <td>NaN</td>\n",
       "      <td>NaN</td>\n",
       "      <td>NaN</td>\n",
       "      <td>60.000000</td>\n",
       "      <td>130000.000000</td>\n",
       "      <td>41000.000000</td>\n",
       "      <td>49000.000000</td>\n",
       "      <td>1.755000e+06</td>\n",
       "      <td>NaN</td>\n",
       "      <td>NaN</td>\n",
       "    </tr>\n",
       "  </tbody>\n",
       "</table>\n",
       "</div>"
      ],
      "text/plain": [
       "                order_id order_type  store   partner order_date order_time  \\\n",
       "count              91108      91108  91108      3545      91108      91108   \n",
       "unique             71631          2    104         5          7       1254   \n",
       "top     SOQN221003120451    offline  Shady  GrabFood   03-10-22       7:48   \n",
       "freq                  20      90854   3932      1014      14310        307   \n",
       "mean                 NaN        NaN    NaN       NaN        NaN        NaN   \n",
       "std                  NaN        NaN    NaN       NaN        NaN        NaN   \n",
       "min                  NaN        NaN    NaN       NaN        NaN        NaN   \n",
       "25%                  NaN        NaN    NaN       NaN        NaN        NaN   \n",
       "50%                  NaN        NaN    NaN       NaN        NaN        NaN   \n",
       "75%                  NaN        NaN    NaN       NaN        NaN        NaN   \n",
       "max                  NaN        NaN    NaN       NaN        NaN        NaN   \n",
       "\n",
       "       customer_name                                   customer_address  \\\n",
       "count            254                                                254   \n",
       "unique            91                                                 99   \n",
       "top         Nhật Hoà  119 Đường Lương Định Của, Quận 2, Thành phố Hồ...   \n",
       "freq              12                                                 12   \n",
       "mean             NaN                                                NaN   \n",
       "std              NaN                                                NaN   \n",
       "min              NaN                                                NaN   \n",
       "25%              NaN                                                NaN   \n",
       "50%              NaN                                                NaN   \n",
       "75%              NaN                                                NaN   \n",
       "max              NaN                                                NaN   \n",
       "\n",
       "       product_category product  detail      quantity     unit_price  \\\n",
       "count             91108   91108   82410  91102.000000   88386.000000   \n",
       "unique               41     221     116           NaN            NaN   \n",
       "top             NOODLES  equfuh  Size M           NaN            NaN   \n",
       "freq              47537   39946   45350           NaN            NaN   \n",
       "mean                NaN     NaN     NaN      1.220004   23746.251669   \n",
       "std                 NaN     NaN     NaN      1.234845    7144.671541   \n",
       "min                 NaN     NaN     NaN      0.100000    1000.000000   \n",
       "25%                 NaN     NaN     NaN      1.000000   20000.000000   \n",
       "50%                 NaN     NaN     NaN      1.000000   20000.000000   \n",
       "75%                 NaN     NaN     NaN      1.000000   29000.000000   \n",
       "max                 NaN     NaN     NaN     60.000000  130000.000000   \n",
       "\n",
       "           extra_fee      discount         total payment payment_partner  \n",
       "count   44087.000000    128.000000  8.836200e+04   91108            9631  \n",
       "unique           NaN           NaN           NaN       5              11  \n",
       "top              NaN           NaN           NaN     COD            MoMo  \n",
       "freq             NaN           NaN           NaN   80051            6506  \n",
       "mean     8023.317531  21675.781250  3.300977e+04     NaN             NaN  \n",
       "std      4427.784117  14333.293637  2.809524e+04     NaN             NaN  \n",
       "min      5000.000000   2450.000000  1.000000e+03     NaN             NaN  \n",
       "25%      5000.000000   5850.000000  2.000000e+04     NaN             NaN  \n",
       "50%      5000.000000  25000.000000  2.500000e+04     NaN             NaN  \n",
       "75%     10000.000000  35000.000000  3.500000e+04     NaN             NaN  \n",
       "max     41000.000000  49000.000000  1.755000e+06     NaN             NaN  "
      ]
     },
     "execution_count": 7,
     "metadata": {},
     "output_type": "execute_result"
    }
   ],
   "source": [
    "# Go through some statistics about the data\n",
    "df.describe(include='all')"
   ]
  },
  {
   "cell_type": "markdown",
   "metadata": {},
   "source": [
    "## Clean & transform data"
   ]
  },
  {
   "cell_type": "markdown",
   "metadata": {},
   "source": [
    "### Delete unnecessary columns"
   ]
  },
  {
   "cell_type": "code",
   "execution_count": 8,
   "metadata": {},
   "outputs": [],
   "source": [
    "del df['customer_name'], df['customer_address']"
   ]
  },
  {
   "cell_type": "markdown",
   "metadata": {},
   "source": [
    "### Add hour column"
   ]
  },
  {
   "cell_type": "code",
   "execution_count": 9,
   "metadata": {},
   "outputs": [],
   "source": [
    "get_hour = lambda time: time.split(':')[0]\n",
    "df['order_hour'] = df['order_time'].apply(get_hour)"
   ]
  },
  {
   "cell_type": "markdown",
   "metadata": {},
   "source": [
    "### Move column"
   ]
  },
  {
   "cell_type": "code",
   "execution_count": 10,
   "metadata": {},
   "outputs": [],
   "source": [
    "hour_col = df.pop('order_hour')\n",
    "df.insert(6, 'order_hour', hour_col)"
   ]
  },
  {
   "cell_type": "markdown",
   "metadata": {},
   "source": [
    "### Change data type"
   ]
  },
  {
   "cell_type": "code",
   "execution_count": 11,
   "metadata": {},
   "outputs": [],
   "source": [
    "df['order_hour'] = pd.to_numeric(df['order_hour'])"
   ]
  },
  {
   "cell_type": "markdown",
   "metadata": {},
   "source": [
    "### Create date of week column"
   ]
  },
  {
   "cell_type": "code",
   "execution_count": 12,
   "metadata": {},
   "outputs": [],
   "source": [
    "get_dayofweek = lambda x: datetime.strptime(x, '%d-%m-%y').strftime('%A')\n",
    "df['order_dayofweek'] = df['order_date'].apply(get_dayofweek)"
   ]
  },
  {
   "cell_type": "code",
   "execution_count": 13,
   "metadata": {},
   "outputs": [],
   "source": [
    "wd_col = df.pop('order_dayofweek')\n",
    "df.insert(5, 'order_dayofweek', wd_col)"
   ]
  },
  {
   "cell_type": "markdown",
   "metadata": {},
   "source": [
    "### Format number values"
   ]
  },
  {
   "cell_type": "code",
   "execution_count": 14,
   "metadata": {},
   "outputs": [],
   "source": [
    "pd.options.display.float_format = '{:,.0f}'.format"
   ]
  },
  {
   "cell_type": "markdown",
   "metadata": {},
   "source": [
    "## Reporting"
   ]
  },
  {
   "cell_type": "markdown",
   "metadata": {},
   "source": [
    "### Question 1: Total revenue by day"
   ]
  },
  {
   "cell_type": "code",
   "execution_count": 15,
   "metadata": {},
   "outputs": [
    {
     "data": {
      "text/html": [
       "<div>\n",
       "<style scoped>\n",
       "    .dataframe tbody tr th:only-of-type {\n",
       "        vertical-align: middle;\n",
       "    }\n",
       "\n",
       "    .dataframe tbody tr th {\n",
       "        vertical-align: top;\n",
       "    }\n",
       "\n",
       "    .dataframe thead th {\n",
       "        text-align: right;\n",
       "    }\n",
       "</style>\n",
       "<table border=\"1\" class=\"dataframe\">\n",
       "  <thead>\n",
       "    <tr style=\"text-align: right;\">\n",
       "      <th></th>\n",
       "      <th>order_date</th>\n",
       "      <th>total</th>\n",
       "    </tr>\n",
       "  </thead>\n",
       "  <tbody>\n",
       "    <tr>\n",
       "      <th>3</th>\n",
       "      <td>04-10-22</td>\n",
       "      <td>463,356,100</td>\n",
       "    </tr>\n",
       "    <tr>\n",
       "      <th>2</th>\n",
       "      <td>03-10-22</td>\n",
       "      <td>459,735,200</td>\n",
       "    </tr>\n",
       "    <tr>\n",
       "      <th>4</th>\n",
       "      <td>05-10-22</td>\n",
       "      <td>457,825,500</td>\n",
       "    </tr>\n",
       "    <tr>\n",
       "      <th>5</th>\n",
       "      <td>06-10-22</td>\n",
       "      <td>450,604,600</td>\n",
       "    </tr>\n",
       "    <tr>\n",
       "      <th>6</th>\n",
       "      <td>07-10-22</td>\n",
       "      <td>450,432,850</td>\n",
       "    </tr>\n",
       "    <tr>\n",
       "      <th>0</th>\n",
       "      <td>01-10-22</td>\n",
       "      <td>330,793,150</td>\n",
       "    </tr>\n",
       "    <tr>\n",
       "      <th>1</th>\n",
       "      <td>02-10-22</td>\n",
       "      <td>304,061,900</td>\n",
       "    </tr>\n",
       "  </tbody>\n",
       "</table>\n",
       "</div>"
      ],
      "text/plain": [
       "  order_date       total\n",
       "3   04-10-22 463,356,100\n",
       "2   03-10-22 459,735,200\n",
       "4   05-10-22 457,825,500\n",
       "5   06-10-22 450,604,600\n",
       "6   07-10-22 450,432,850\n",
       "0   01-10-22 330,793,150\n",
       "1   02-10-22 304,061,900"
      ]
     },
     "execution_count": 15,
     "metadata": {},
     "output_type": "execute_result"
    }
   ],
   "source": [
    "revenue_by_day = df.groupby('order_date').sum()['total'].reset_index()\n",
    "revenue_by_day.sort_values(by='total', ascending=False)\n",
    "\n",
    "# > 04/10 is the day with the highest revenue (463,356,100 VND)."
   ]
  },
  {
   "cell_type": "code",
   "execution_count": 16,
   "metadata": {},
   "outputs": [
    {
     "data": {
      "image/png": "[encoded data removed]",
      "text/plain": [
       "<Figure size 720x360 with 1 Axes>"
      ]
     },
     "metadata": {},
     "output_type": "display_data"
    }
   ],
   "source": [
    "plt.figure(figsize=(10,5))\n",
    "plt.plot(revenue_by_day['order_date'], revenue_by_day['total']/1000000, marker='o')\n",
    "plt.ylabel('Total Revenue (Millions VND')\n",
    "plt.xlabel('Order Date')\n",
    "plt.yticks(ticks=range(100,501,100))\n",
    "plt.xticks(rotation=30)\n",
    "plt.grid(axis='y', alpha=0.4)\n",
    "plt.show()"
   ]
  },
  {
   "cell_type": "markdown",
   "metadata": {},
   "source": [
    "### Question 2: Top 10 stores by revenue?"
   ]
  },
  {
   "cell_type": "code",
   "execution_count": 17,
   "metadata": {},
   "outputs": [
    {
     "data": {
      "text/html": [
       "<div>\n",
       "<style scoped>\n",
       "    .dataframe tbody tr th:only-of-type {\n",
       "        vertical-align: middle;\n",
       "    }\n",
       "\n",
       "    .dataframe tbody tr th {\n",
       "        vertical-align: top;\n",
       "    }\n",
       "\n",
       "    .dataframe thead th {\n",
       "        text-align: right;\n",
       "    }\n",
       "</style>\n",
       "<table border=\"1\" class=\"dataframe\">\n",
       "  <thead>\n",
       "    <tr style=\"text-align: right;\">\n",
       "      <th></th>\n",
       "      <th>store</th>\n",
       "      <th>total</th>\n",
       "    </tr>\n",
       "  </thead>\n",
       "  <tbody>\n",
       "    <tr>\n",
       "      <th>85</th>\n",
       "      <td>Shady</td>\n",
       "      <td>144,880,000</td>\n",
       "    </tr>\n",
       "    <tr>\n",
       "      <th>13</th>\n",
       "      <td>Beaux</td>\n",
       "      <td>118,565,500</td>\n",
       "    </tr>\n",
       "    <tr>\n",
       "      <th>76</th>\n",
       "      <td>Queenie</td>\n",
       "      <td>82,457,000</td>\n",
       "    </tr>\n",
       "    <tr>\n",
       "      <th>35</th>\n",
       "      <td>Frankie</td>\n",
       "      <td>67,052,500</td>\n",
       "    </tr>\n",
       "    <tr>\n",
       "      <th>26</th>\n",
       "      <td>Cricket</td>\n",
       "      <td>65,601,100</td>\n",
       "    </tr>\n",
       "    <tr>\n",
       "      <th>80</th>\n",
       "      <td>Rocky</td>\n",
       "      <td>65,128,000</td>\n",
       "    </tr>\n",
       "    <tr>\n",
       "      <th>30</th>\n",
       "      <td>Erin</td>\n",
       "      <td>60,680,000</td>\n",
       "    </tr>\n",
       "    <tr>\n",
       "      <th>14</th>\n",
       "      <td>Belle</td>\n",
       "      <td>60,658,250</td>\n",
       "    </tr>\n",
       "    <tr>\n",
       "      <th>71</th>\n",
       "      <td>Nico</td>\n",
       "      <td>58,059,000</td>\n",
       "    </tr>\n",
       "    <tr>\n",
       "      <th>89</th>\n",
       "      <td>Sneakers</td>\n",
       "      <td>54,682,500</td>\n",
       "    </tr>\n",
       "  </tbody>\n",
       "</table>\n",
       "</div>"
      ],
      "text/plain": [
       "       store       total\n",
       "85     Shady 144,880,000\n",
       "13     Beaux 118,565,500\n",
       "76   Queenie  82,457,000\n",
       "35   Frankie  67,052,500\n",
       "26   Cricket  65,601,100\n",
       "80     Rocky  65,128,000\n",
       "30      Erin  60,680,000\n",
       "14     Belle  60,658,250\n",
       "71      Nico  58,059,000\n",
       "89  Sneakers  54,682,500"
      ]
     },
     "execution_count": 17,
     "metadata": {},
     "output_type": "execute_result"
    }
   ],
   "source": [
    "revenue_by_store = df.groupby('store').sum()['total'].reset_index()\n",
    "top10_store = revenue_by_store.sort_values(by='total', ascending=False).head(10)\n",
    "top10_store"
   ]
  },
  {
   "cell_type": "code",
   "execution_count": 18,
   "metadata": {},
   "outputs": [
    {
     "data": {
      "image/png": "[encoded data removed]",
      "text/plain": [
       "<Figure size 504x504 with 1 Axes>"
      ]
     },
     "metadata": {},
     "output_type": "display_data"
    }
   ],
   "source": [
    "plt.figure(figsize=(7,7))\n",
    "sns.barplot(y=top10_store['store'], x=top10_store['total']/1000000, palette='viridis', orient='h')\n",
    "plt.grid(axis='x', alpha=0.4)\n",
    "plt.ylabel('Store')\n",
    "plt.xlabel('Total Revenue (Millions VND)')\n",
    "plt.show()"
   ]
  },
  {
   "cell_type": "markdown",
   "metadata": {},
   "source": [
    "### Question 3: The average revenue per day of week?"
   ]
  },
  {
   "cell_type": "code",
   "execution_count": 19,
   "metadata": {},
   "outputs": [
    {
     "data": {
      "text/html": [
       "<div>\n",
       "<style scoped>\n",
       "    .dataframe tbody tr th:only-of-type {\n",
       "        vertical-align: middle;\n",
       "    }\n",
       "\n",
       "    .dataframe tbody tr th {\n",
       "        vertical-align: top;\n",
       "    }\n",
       "\n",
       "    .dataframe thead th {\n",
       "        text-align: right;\n",
       "    }\n",
       "</style>\n",
       "<table border=\"1\" class=\"dataframe\">\n",
       "  <thead>\n",
       "    <tr style=\"text-align: right;\">\n",
       "      <th></th>\n",
       "      <th>order_dayofweek</th>\n",
       "      <th>total</th>\n",
       "    </tr>\n",
       "  </thead>\n",
       "  <tbody>\n",
       "    <tr>\n",
       "      <th>1</th>\n",
       "      <td>Monday</td>\n",
       "      <td>459,735,200</td>\n",
       "    </tr>\n",
       "    <tr>\n",
       "      <th>5</th>\n",
       "      <td>Tuesday</td>\n",
       "      <td>463,356,100</td>\n",
       "    </tr>\n",
       "    <tr>\n",
       "      <th>6</th>\n",
       "      <td>Wednesday</td>\n",
       "      <td>457,825,500</td>\n",
       "    </tr>\n",
       "    <tr>\n",
       "      <th>4</th>\n",
       "      <td>Thursday</td>\n",
       "      <td>450,604,600</td>\n",
       "    </tr>\n",
       "    <tr>\n",
       "      <th>0</th>\n",
       "      <td>Friday</td>\n",
       "      <td>450,432,850</td>\n",
       "    </tr>\n",
       "    <tr>\n",
       "      <th>2</th>\n",
       "      <td>Saturday</td>\n",
       "      <td>330,793,150</td>\n",
       "    </tr>\n",
       "    <tr>\n",
       "      <th>3</th>\n",
       "      <td>Sunday</td>\n",
       "      <td>304,061,900</td>\n",
       "    </tr>\n",
       "  </tbody>\n",
       "</table>\n",
       "</div>"
      ],
      "text/plain": [
       "  order_dayofweek       total\n",
       "1          Monday 459,735,200\n",
       "5         Tuesday 463,356,100\n",
       "6       Wednesday 457,825,500\n",
       "4        Thursday 450,604,600\n",
       "0          Friday 450,432,850\n",
       "2        Saturday 330,793,150\n",
       "3          Sunday 304,061,900"
      ]
     },
     "execution_count": 19,
     "metadata": {},
     "output_type": "execute_result"
    }
   ],
   "source": [
    "revenue_by_dateofweek = df.groupby(['order_date', 'order_dayofweek']).sum().reset_index()\n",
    "revenue_by_dateofweek = revenue_by_dateofweek.groupby('order_dayofweek').mean()['total'].reset_index()\n",
    "\n",
    "weekdate = ['Monday', 'Tuesday', 'Wednesday', 'Thursday', 'Friday', 'Saturday', 'Sunday']\n",
    "revenue_by_dateofweek['order_dayofweek'] = pd.Categorical(revenue_by_dateofweek['order_dayofweek'], weekdate, ordered=True)\n",
    "revenue_by_dateofweek.sort_values(by='order_dayofweek', ascending=True, inplace=True)\n",
    "revenue_by_dateofweek"
   ]
  },
  {
   "cell_type": "code",
   "execution_count": 20,
   "metadata": {},
   "outputs": [
    {
     "data": {
      "image/png": "[encoded data removed]",
      "text/plain": [
       "<Figure size 720x360 with 1 Axes>"
      ]
     },
     "metadata": {},
     "output_type": "display_data"
    }
   ],
   "source": [
    "plt.figure(figsize=(10,5))\n",
    "sns.barplot(x=revenue_by_dateofweek['order_dayofweek'], y=revenue_by_dateofweek['total']/1000000, palette='flare')\n",
    "plt.grid(axis='y', alpha=0.4)\n",
    "plt.ylabel('Total Revenue (Millions VND)')\n",
    "plt.xlabel('Date of Week')\n",
    "plt.show()\n",
    "\n",
    "# > The average revenue of weekdays are higher than weekend, seems like most of our customers are office workers.\n",
    "# To clear that, we will dig deeper into this data"
   ]
  },
  {
   "cell_type": "markdown",
   "metadata": {},
   "source": [
    "### Question 4: If most of our customers are office workers, then they tend to buy our coffee in the morning or at the noon, let's check it out"
   ]
  },
  {
   "cell_type": "code",
   "execution_count": 21,
   "metadata": {},
   "outputs": [],
   "source": [
    "df_hour = df.groupby('order_hour').sum()['total'].reset_index()"
   ]
  },
  {
   "cell_type": "code",
   "execution_count": 22,
   "metadata": {},
   "outputs": [
    {
     "data": {
      "image/png": "[encoded data removed]",
      "text/plain": [
       "<Figure size 720x360 with 1 Axes>"
      ]
     },
     "metadata": {},
     "output_type": "display_data"
    }
   ],
   "source": [
    "plt.figure(figsize=(10,5))\n",
    "sns.barplot(x=df_hour['order_hour'], y=df_hour['total']/1000000)\n",
    "plt.grid(axis='y', alpha=0.4)\n",
    "plt.ylabel('Total Revenue (Millions VND)')\n",
    "plt.xlabel('Hour')\n",
    "plt.show()\n",
    "# > We are right! 7am-10am and 12pm-1pm are peak times of our sales within day"
   ]
  },
  {
   "cell_type": "markdown",
   "metadata": {},
   "source": [
    "### Question 5: Average amount of an order"
   ]
  },
  {
   "cell_type": "code",
   "execution_count": 23,
   "metadata": {},
   "outputs": [
    {
     "data": {
      "text/plain": [
       "40719.92991861066"
      ]
     },
     "execution_count": 23,
     "metadata": {},
     "output_type": "execute_result"
    }
   ],
   "source": [
    "avg_amount_order = df.groupby('order_id').sum()['total'].mean()\n",
    "avg_amount_order\n",
    "\n",
    "#> It's about 40,700 VND, seems a bit high, let's check outliers:"
   ]
  },
  {
   "cell_type": "code",
   "execution_count": 24,
   "metadata": {},
   "outputs": [
    {
     "data": {
      "image/png": "[encoded data removed]",
      "text/plain": [
       "<Figure size 720x360 with 1 Axes>"
      ]
     },
     "metadata": {},
     "output_type": "display_data"
    }
   ],
   "source": [
    "amount_order = df.groupby('order_id').sum()['total'].reset_index()\n",
    "\n",
    "plt.figure(figsize=(10,5))\n",
    "sns.boxplot(data=amount_order, x='total')\n",
    "plt.xlabel('Amount (VND)')\n",
    "plt.show()\n",
    "\n",
    "# > Well, we have too much outliers here. Try to narrow down the amount to under 200,000 VND"
   ]
  },
  {
   "cell_type": "code",
   "execution_count": 25,
   "metadata": {},
   "outputs": [
    {
     "data": {
      "text/plain": [
       "38162.80261231843"
      ]
     },
     "execution_count": 25,
     "metadata": {},
     "output_type": "execute_result"
    }
   ],
   "source": [
    "avg_amount_order_under100 = amount_order[amount_order['total'] <= 200000].groupby('order_id').sum()['total'].mean()\n",
    "avg_amount_order_under100\n"
   ]
  },
  {
   "cell_type": "code",
   "execution_count": 26,
   "metadata": {},
   "outputs": [
    {
     "data": {
      "image/png": "[encoded data removed]",
      "text/plain": [
       "<Figure size 720x360 with 1 Axes>"
      ]
     },
     "metadata": {},
     "output_type": "display_data"
    }
   ],
   "source": [
    "amount_order_under100 = amount_order[amount_order['total'] <= 200000]\n",
    "\n",
    "plt.figure(figsize=(10,5))\n",
    "sns.boxplot(data=amount_order_under100, x='total', color='w')\n",
    "plt.axvline(x=avg_amount_order_under100, color='r')\n",
    "plt.xlabel('Amount (VND)')\n",
    "plt.show()\n",
    "\n",
    "# > It's better!"
   ]
  },
  {
   "cell_type": "markdown",
   "metadata": {},
   "source": [
    "### Question 6: Who is the partner that bring us the highest revenue? Compare between days of week."
   ]
  },
  {
   "cell_type": "code",
   "execution_count": 27,
   "metadata": {},
   "outputs": [
    {
     "data": {
      "text/html": [
       "<div>\n",
       "<style scoped>\n",
       "    .dataframe tbody tr th:only-of-type {\n",
       "        vertical-align: middle;\n",
       "    }\n",
       "\n",
       "    .dataframe tbody tr th {\n",
       "        vertical-align: top;\n",
       "    }\n",
       "\n",
       "    .dataframe thead th {\n",
       "        text-align: right;\n",
       "    }\n",
       "</style>\n",
       "<table border=\"1\" class=\"dataframe\">\n",
       "  <thead>\n",
       "    <tr style=\"text-align: right;\">\n",
       "      <th>partner</th>\n",
       "      <th>Baemin</th>\n",
       "      <th>BeFood</th>\n",
       "      <th>Gojek</th>\n",
       "      <th>GrabFood</th>\n",
       "      <th>ShopeeFood</th>\n",
       "    </tr>\n",
       "    <tr>\n",
       "      <th>order_dayofweek</th>\n",
       "      <th></th>\n",
       "      <th></th>\n",
       "      <th></th>\n",
       "      <th></th>\n",
       "      <th></th>\n",
       "    </tr>\n",
       "  </thead>\n",
       "  <tbody>\n",
       "    <tr>\n",
       "      <th>Friday</th>\n",
       "      <td>3,598,000</td>\n",
       "      <td>1,713,000</td>\n",
       "      <td>4,676,400</td>\n",
       "      <td>7,148,000</td>\n",
       "      <td>5,385,000</td>\n",
       "    </tr>\n",
       "    <tr>\n",
       "      <th>Monday</th>\n",
       "      <td>3,848,000</td>\n",
       "      <td>1,901,000</td>\n",
       "      <td>4,244,100</td>\n",
       "      <td>8,171,000</td>\n",
       "      <td>6,905,000</td>\n",
       "    </tr>\n",
       "    <tr>\n",
       "      <th>Saturday</th>\n",
       "      <td>4,113,000</td>\n",
       "      <td>949,000</td>\n",
       "      <td>3,804,200</td>\n",
       "      <td>6,002,000</td>\n",
       "      <td>3,793,000</td>\n",
       "    </tr>\n",
       "    <tr>\n",
       "      <th>Sunday</th>\n",
       "      <td>3,776,000</td>\n",
       "      <td>1,057,000</td>\n",
       "      <td>3,514,100</td>\n",
       "      <td>3,578,000</td>\n",
       "      <td>3,934,000</td>\n",
       "    </tr>\n",
       "    <tr>\n",
       "      <th>Thursday</th>\n",
       "      <td>3,546,000</td>\n",
       "      <td>2,322,000</td>\n",
       "      <td>5,248,200</td>\n",
       "      <td>6,995,000</td>\n",
       "      <td>7,605,000</td>\n",
       "    </tr>\n",
       "    <tr>\n",
       "      <th>Tuesday</th>\n",
       "      <td>4,694,000</td>\n",
       "      <td>1,745,000</td>\n",
       "      <td>5,114,100</td>\n",
       "      <td>9,033,000</td>\n",
       "      <td>7,627,000</td>\n",
       "    </tr>\n",
       "    <tr>\n",
       "      <th>Wednesday</th>\n",
       "      <td>3,281,000</td>\n",
       "      <td>1,441,000</td>\n",
       "      <td>5,398,300</td>\n",
       "      <td>6,838,000</td>\n",
       "      <td>6,698,000</td>\n",
       "    </tr>\n",
       "  </tbody>\n",
       "</table>\n",
       "</div>"
      ],
      "text/plain": [
       "partner            Baemin    BeFood     Gojek  GrabFood  ShopeeFood\n",
       "order_dayofweek                                                    \n",
       "Friday          3,598,000 1,713,000 4,676,400 7,148,000   5,385,000\n",
       "Monday          3,848,000 1,901,000 4,244,100 8,171,000   6,905,000\n",
       "Saturday        4,113,000   949,000 3,804,200 6,002,000   3,793,000\n",
       "Sunday          3,776,000 1,057,000 3,514,100 3,578,000   3,934,000\n",
       "Thursday        3,546,000 2,322,000 5,248,200 6,995,000   7,605,000\n",
       "Tuesday         4,694,000 1,745,000 5,114,100 9,033,000   7,627,000\n",
       "Wednesday       3,281,000 1,441,000 5,398,300 6,838,000   6,698,000"
      ]
     },
     "execution_count": 27,
     "metadata": {},
     "output_type": "execute_result"
    }
   ],
   "source": [
    "df_reshape = df.groupby(['order_dayofweek','partner']).sum().reset_index()\n",
    "df_pivot = df_reshape.pivot(columns='partner', index='order_dayofweek', values='total').sort_values(by='order_dayofweek')\n",
    "df_pivot"
   ]
  },
  {
   "cell_type": "code",
   "execution_count": 28,
   "metadata": {},
   "outputs": [
    {
     "data": {
      "image/png": "[encoded data removed]",
      "text/plain": [
       "<Figure size 1080x432 with 1 Axes>"
      ]
     },
     "metadata": {},
     "output_type": "display_data"
    }
   ],
   "source": [
    "df_date_partner = df.groupby(['order_dayofweek', 'partner']).sum()['total'].reset_index()\n",
    "df_date_partner['order_dayofweek'] = pd.Categorical(df_date_partner['order_dayofweek'], weekdate, ordered=True)\n",
    "\n",
    "plt.figure(figsize=(15,6))\n",
    "sns.barplot(data=df_date_partner, x='order_dayofweek', y=df_date_partner['total']/1000000, hue='partner', edgecolor='black', palette='rainbow')\n",
    "plt.grid(axis='y', alpha=0.4)\n",
    "plt.title('Revenue by partner and day of week', fontsize=16)\n",
    "plt.ylabel('Revenue (Millions VND)', fontsize=14)\n",
    "plt.xlabel('Date of week', fontsize=14)\n",
    "plt.legend(title='Partner')\n",
    "plt.xticks(fontsize=12)\n",
    "plt.show()\n",
    "\n",
    "# > Grabfood and ShopeeFood are our 2 biggest partners"
   ]
  },
  {
   "cell_type": "markdown",
   "metadata": {},
   "source": [
    "### Some other facts:"
   ]
  },
  {
   "cell_type": "markdown",
   "metadata": {},
   "source": [
    "#### Top 5 product category by sold quantity"
   ]
  },
  {
   "cell_type": "code",
   "execution_count": 29,
   "metadata": {},
   "outputs": [
    {
     "data": {
      "text/html": [
       "<div>\n",
       "<style scoped>\n",
       "    .dataframe tbody tr th:only-of-type {\n",
       "        vertical-align: middle;\n",
       "    }\n",
       "\n",
       "    .dataframe tbody tr th {\n",
       "        vertical-align: top;\n",
       "    }\n",
       "\n",
       "    .dataframe thead th {\n",
       "        text-align: right;\n",
       "    }\n",
       "</style>\n",
       "<table border=\"1\" class=\"dataframe\">\n",
       "  <thead>\n",
       "    <tr style=\"text-align: right;\">\n",
       "      <th></th>\n",
       "      <th>product_category</th>\n",
       "      <th>quantity</th>\n",
       "    </tr>\n",
       "  </thead>\n",
       "  <tbody>\n",
       "    <tr>\n",
       "      <th>27</th>\n",
       "      <td>NOODLES</td>\n",
       "      <td>52,791</td>\n",
       "    </tr>\n",
       "    <tr>\n",
       "      <th>4</th>\n",
       "      <td>BUY 1 GET 2</td>\n",
       "      <td>14,748</td>\n",
       "    </tr>\n",
       "    <tr>\n",
       "      <th>13</th>\n",
       "      <td>COMBO SNACKS</td>\n",
       "      <td>7,535</td>\n",
       "    </tr>\n",
       "    <tr>\n",
       "      <th>17</th>\n",
       "      <td>FRESH JUICE</td>\n",
       "      <td>5,535</td>\n",
       "    </tr>\n",
       "    <tr>\n",
       "      <th>34</th>\n",
       "      <td>SPECIAL DRINK</td>\n",
       "      <td>4,442</td>\n",
       "    </tr>\n",
       "  </tbody>\n",
       "</table>\n",
       "</div>"
      ],
      "text/plain": [
       "   product_category  quantity\n",
       "27          NOODLES    52,791\n",
       "4       BUY 1 GET 2    14,748\n",
       "13     COMBO SNACKS     7,535\n",
       "17      FRESH JUICE     5,535\n",
       "34    SPECIAL DRINK     4,442"
      ]
     },
     "execution_count": 29,
     "metadata": {},
     "output_type": "execute_result"
    }
   ],
   "source": [
    "top5_cat = df.groupby('product_category').sum()['quantity'].reset_index().sort_values(by='quantity', ascending=False).head(5)\n",
    "top5_cat"
   ]
  },
  {
   "cell_type": "markdown",
   "metadata": {},
   "source": [
    "#### The most popular payment partners (by number of orders)"
   ]
  },
  {
   "cell_type": "code",
   "execution_count": 30,
   "metadata": {},
   "outputs": [
    {
     "data": {
      "text/plain": [
       "MoMo            5159\n",
       "VnPay           1120\n",
       "ZaloPay          517\n",
       "ShopeePay        271\n",
       "PosCard          156\n",
       "GrabPay           71\n",
       "MoMoAPP           35\n",
       "VNPTEPAY          11\n",
       "ZaloPayAPP         7\n",
       "KBank              4\n",
       "ShopeePayAPP       3\n",
       "Name: payment_partner, dtype: int64"
      ]
     },
     "execution_count": 30,
     "metadata": {},
     "output_type": "execute_result"
    }
   ],
   "source": [
    "df[['order_id','payment_partner']].drop_duplicates()['payment_partner'].value_counts()\n",
    "\n",
    "# > Momo is the number 1 in our list, followed by VnPay."
   ]
  },
  {
   "cell_type": "markdown",
   "metadata": {},
   "source": [
    "#### Function to get the revenue and number of orders from a store:"
   ]
  },
  {
   "cell_type": "code",
   "execution_count": 31,
   "metadata": {},
   "outputs": [
    {
     "data": {
      "text/plain": [
       "(43851000.0, 1245)"
      ]
     },
     "execution_count": 31,
     "metadata": {},
     "output_type": "execute_result"
    }
   ],
   "source": [
    "def sales_store(store):\n",
    "    revenue = df[df['store'] == store]['total'].sum()\n",
    "    num_orders = len(df[df['store'] == store]['order_id'].unique())\n",
    "    return revenue, num_orders\n",
    "\n",
    "sales_store('Thumper')"
   ]
  },
  {
   "cell_type": "markdown",
   "metadata": {},
   "source": [
    "#### Compare revenue by day between 02 stores"
   ]
  },
  {
   "cell_type": "code",
   "execution_count": 58,
   "metadata": {},
   "outputs": [
    {
     "data": {
      "image/png": "[encoded data removed]",
      "text/plain": [
       "<Figure size 720x432 with 1 Axes>"
      ]
     },
     "metadata": {},
     "output_type": "display_data"
    }
   ],
   "source": [
    "store1 = 'Shady'\n",
    "store2 = 'Frankie'\n",
    "\n",
    "store1_rev = df[df['store'] == store1].groupby('order_date').sum()['total'].reset_index()\n",
    "store1_rev\n",
    "\n",
    "store2_rev = df[df['store'] == store2].groupby('order_date').sum()['total'].reset_index()\n",
    "store2_rev\n",
    "\n",
    "plt.figure(figsize=(10,6))\n",
    "ax = plt.subplot()\n",
    "sns.lineplot(data=store1_rev, x='order_date', y='total', marker='o', color='red', label = store1)\n",
    "sns.lineplot(data=store2_rev, x='order_date', y='total', marker='o', color='skyblue', label = store2)\n",
    "plt.grid(axis='y', alpha=0.4)\n",
    "plt.yticks(ticks=range(0, 25000001, 5000000))\n",
    "plt.xlabel('Order Date')\n",
    "plt.ylabel('Revenue')\n",
    "plt.show()"
   ]
  }
 ],
 "metadata": {
  "kernelspec": {
   "display_name": "Python 3.10.7 64-bit (microsoft store)",
   "language": "python",
   "name": "python3"
  },
  "language_info": {
   "codemirror_mode": {
    "name": "ipython",
    "version": 3
   },
   "file_extension": ".py",
   "mimetype": "text/x-python",
   "name": "python",
   "nbconvert_exporter": "python",
   "pygments_lexer": "ipython3",
   "version": "3.10.7"
  },
  "orig_nbformat": 4,
  "vscode": {
   "interpreter": {
    "hash": "8e771c78503aa8035bff9fac9e95612f5cc4c373101cf958086ac9bde18fabb7"
   }
  }
 },
 "nbformat": 4,
 "nbformat_minor": 2
}
